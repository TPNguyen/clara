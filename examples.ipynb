{
 "cells": [
  {
   "cell_type": "code",
   "execution_count": 1,
   "metadata": {},
   "outputs": [],
   "source": [
    "import numpy as np\n",
    "from simulator import generate_dataset_tiebreaking\n",
    "from gibbs import ClaraGibbs"
   ]
  },
  {
   "cell_type": "code",
   "execution_count": 2,
   "metadata": {},
   "outputs": [],
   "source": [
    "# Simulate a dataset with 1000 items and all labelers share a single confusion matrix\n",
    "df = generate_dataset_tiebreaking(\n",
    "    dataset_id=0,\n",
    "    theta=np.array([0.8, 0.2]),\n",
    "    psi=np.array([[0.9, 0.1], [0.05, 0.95]]),\n",
    "    num_items=1000,\n",
    ")"
   ]
  },
  {
   "cell_type": "code",
   "execution_count": 3,
   "metadata": {},
   "outputs": [
    {
     "data": {
      "text/html": [
       "<div>\n",
       "<style scoped>\n",
       "    .dataframe tbody tr th:only-of-type {\n",
       "        vertical-align: middle;\n",
       "    }\n",
       "\n",
       "    .dataframe tbody tr th {\n",
       "        vertical-align: top;\n",
       "    }\n",
       "\n",
       "    .dataframe thead th {\n",
       "        text-align: right;\n",
       "    }\n",
       "</style>\n",
       "<table border=\"1\" class=\"dataframe\">\n",
       "  <thead>\n",
       "    <tr style=\"text-align: right;\">\n",
       "      <th></th>\n",
       "      <th>dataset</th>\n",
       "      <th>id</th>\n",
       "      <th>labelers</th>\n",
       "      <th>ratings</th>\n",
       "      <th>true_rating</th>\n",
       "    </tr>\n",
       "  </thead>\n",
       "  <tbody>\n",
       "    <tr>\n",
       "      <th>990</th>\n",
       "      <td>0</td>\n",
       "      <td>0_990</td>\n",
       "      <td>[0, 0, 0]</td>\n",
       "      <td>[1, 0, 1]</td>\n",
       "      <td>0</td>\n",
       "    </tr>\n",
       "    <tr>\n",
       "      <th>991</th>\n",
       "      <td>0</td>\n",
       "      <td>0_991</td>\n",
       "      <td>[0, 0]</td>\n",
       "      <td>[0, 0]</td>\n",
       "      <td>0</td>\n",
       "    </tr>\n",
       "    <tr>\n",
       "      <th>992</th>\n",
       "      <td>0</td>\n",
       "      <td>0_992</td>\n",
       "      <td>[0, 0]</td>\n",
       "      <td>[0, 0]</td>\n",
       "      <td>0</td>\n",
       "    </tr>\n",
       "    <tr>\n",
       "      <th>993</th>\n",
       "      <td>0</td>\n",
       "      <td>0_993</td>\n",
       "      <td>[0, 0, 0]</td>\n",
       "      <td>[1, 0, 0]</td>\n",
       "      <td>0</td>\n",
       "    </tr>\n",
       "    <tr>\n",
       "      <th>994</th>\n",
       "      <td>0</td>\n",
       "      <td>0_994</td>\n",
       "      <td>[0, 0]</td>\n",
       "      <td>[0, 0]</td>\n",
       "      <td>0</td>\n",
       "    </tr>\n",
       "    <tr>\n",
       "      <th>995</th>\n",
       "      <td>0</td>\n",
       "      <td>0_995</td>\n",
       "      <td>[0, 0]</td>\n",
       "      <td>[0, 0]</td>\n",
       "      <td>0</td>\n",
       "    </tr>\n",
       "    <tr>\n",
       "      <th>996</th>\n",
       "      <td>0</td>\n",
       "      <td>0_996</td>\n",
       "      <td>[0, 0]</td>\n",
       "      <td>[0, 0]</td>\n",
       "      <td>0</td>\n",
       "    </tr>\n",
       "    <tr>\n",
       "      <th>997</th>\n",
       "      <td>0</td>\n",
       "      <td>0_997</td>\n",
       "      <td>[0, 0]</td>\n",
       "      <td>[0, 0]</td>\n",
       "      <td>0</td>\n",
       "    </tr>\n",
       "    <tr>\n",
       "      <th>998</th>\n",
       "      <td>0</td>\n",
       "      <td>0_998</td>\n",
       "      <td>[0, 0]</td>\n",
       "      <td>[0, 0]</td>\n",
       "      <td>0</td>\n",
       "    </tr>\n",
       "    <tr>\n",
       "      <th>999</th>\n",
       "      <td>0</td>\n",
       "      <td>0_999</td>\n",
       "      <td>[0, 0]</td>\n",
       "      <td>[0, 0]</td>\n",
       "      <td>0</td>\n",
       "    </tr>\n",
       "  </tbody>\n",
       "</table>\n",
       "</div>"
      ],
      "text/plain": [
       "    dataset     id   labelers    ratings true_rating\n",
       "990       0  0_990  [0, 0, 0]  [1, 0, 1]           0\n",
       "991       0  0_991     [0, 0]     [0, 0]           0\n",
       "992       0  0_992     [0, 0]     [0, 0]           0\n",
       "993       0  0_993  [0, 0, 0]  [1, 0, 0]           0\n",
       "994       0  0_994     [0, 0]     [0, 0]           0\n",
       "995       0  0_995     [0, 0]     [0, 0]           0\n",
       "996       0  0_996     [0, 0]     [0, 0]           0\n",
       "997       0  0_997     [0, 0]     [0, 0]           0\n",
       "998       0  0_998     [0, 0]     [0, 0]           0\n",
       "999       0  0_999     [0, 0]     [0, 0]           0"
      ]
     },
     "execution_count": 3,
     "metadata": {},
     "output_type": "execute_result"
    }
   ],
   "source": [
    "df.tail(10)"
   ]
  },
  {
   "cell_type": "code",
   "execution_count": 4,
   "metadata": {},
   "outputs": [
    {
     "name": "stderr",
     "output_type": "stream",
     "text": [
      "INFO:gibbs:Fitting ...\n",
      "INFO:gibbs: N = 1000\n",
      "INFO:gibbs: R = 2\n",
      "INFO:gibbs: A = 1\n",
      "INFO:gibbs: C = 0\n",
      "INFO:gibbs:Initializing ...\n",
      "INFO:gibbs:Getting priors ...\n",
      "INFO:gibbs:  theta_scale = 1.0\n",
      "INFO:gibbs:  theta_mean = [0.73861022 0.26138978]\n",
      "INFO:gibbs: theta_prior = dimension = 2. scale = 1.0. mean = [0.73861022 0.26138978].\n",
      "INFO:gibbs:  psi_scale = [1.0, 1.0]\n",
      "INFO:gibbs:  psi_mean = [[0.75, 0.25], [0.25, 0.75]]\n",
      "INFO:gibbs: psi_prior = [dimension = 2. scale = 1.0. mean = [0.75 0.25]., dimension = 2. scale = 1.0. mean = [0.25 0.75].]\n",
      "INFO:gibbs: phi_prior = None\n",
      "INFO:gibbs:  llh = -1134.3906471317314\n",
      "INFO:gibbs:  theta = prior: dimension = 2. scale = 1.0. mean = [0.73861022 0.26138978].. data: counts: {0: 781, 1: 219}. count_sum = 1000.. posterior: [0.7809576525637271, 0.21904234743627288]\n",
      "INFO:gibbs:  psi[0][0] = prior: dimension = 2. scale = 1.0. mean = [0.75 0.25].. data: counts: {0: 1562, 1: 129}. count_sum = 1691.. posterior: [0.9236111111111112, 0.0763888888888889]\n",
      "INFO:gibbs:  psi[0][1] = prior: dimension = 2. scale = 1.0. mean = [0.25 0.75].. data: counts: {1: 438, 0: 42}. count_sum = 480.. posterior: [0.08783783783783784, 0.9121621621621622]\n",
      "INFO:gibbs:Sampling ...\n",
      "INFO:gibbs: Iter 0 / 400\n",
      "INFO:gibbs:  n_changes = 26 / 1000\n",
      "INFO:gibbs:  llh = -1197.1859445354053\n",
      "INFO:gibbs:  theta = prior: dimension = 2. scale = 1.0. mean = [0.73861022 0.26138978].. data: counts: {0: 791, 1: 209}. count_sum = 1000.. posterior: [0.790947662553737, 0.2090523374462629]\n",
      "INFO:gibbs:  psi[0][0] = prior: dimension = 2. scale = 1.0. mean = [0.75 0.25].. data: counts: {0: 1558, 1: 157}. count_sum = 1715.. posterior: [0.9083624708624709, 0.09163752913752914]\n",
      "INFO:gibbs:  psi[0][1] = prior: dimension = 2. scale = 1.0. mean = [0.25 0.75].. data: counts: {1: 410, 0: 46}. count_sum = 456.. posterior: [0.1012035010940919, 0.8987964989059081]\n",
      "INFO:gibbs: Iter 40 / 400\n",
      "INFO:gibbs:  n_changes = 43 / 1000\n",
      "INFO:gibbs:  llh = -1213.9482437419806\n",
      "INFO:gibbs:  theta = prior: dimension = 2. scale = 1.0. mean = [0.73861022 0.26138978].. data: counts: {0: 792, 1: 208}. count_sum = 1000.. posterior: [0.791946663552738, 0.2080533364472619]\n",
      "INFO:gibbs:  psi[0][0] = prior: dimension = 2. scale = 1.0. mean = [0.75 0.25].. data: counts: {0: 1558, 1: 165}. count_sum = 1723.. posterior: [0.9041473317865429, 0.09585266821345707]\n",
      "INFO:gibbs:  psi[0][1] = prior: dimension = 2. scale = 1.0. mean = [0.25 0.75].. data: counts: {1: 402, 0: 46}. count_sum = 448.. posterior: [0.10300668151447662, 0.8969933184855234]\n",
      "INFO:gibbs: Iter 80 / 400\n",
      "INFO:gibbs:  n_changes = 40 / 1000\n",
      "INFO:gibbs:  llh = -1184.7260064579332\n",
      "INFO:gibbs:  theta = prior: dimension = 2. scale = 1.0. mean = [0.73861022 0.26138978].. data: counts: {0: 784, 1: 216}. count_sum = 1000.. posterior: [0.7839546555607301, 0.21604534443926987]\n",
      "INFO:gibbs:  psi[0][0] = prior: dimension = 2. scale = 1.0. mean = [0.75 0.25].. data: counts: {0: 1553, 1: 143}. count_sum = 1696.. posterior: [0.9155863288155569, 0.08441367118444314]\n",
      "INFO:gibbs:  psi[0][1] = prior: dimension = 2. scale = 1.0. mean = [0.25 0.75].. data: counts: {1: 424, 0: 51}. count_sum = 475.. posterior: [0.10766806722689076, 0.8923319327731093]\n",
      "INFO:gibbs: Iter 120 / 400\n",
      "INFO:gibbs:  n_changes = 37 / 1000\n",
      "INFO:gibbs:  llh = -1171.728855920058\n",
      "INFO:gibbs:  theta = prior: dimension = 2. scale = 1.0. mean = [0.73861022 0.26138978].. data: counts: {0: 804, 1: 196}. count_sum = 1000.. posterior: [0.80393467554075, 0.1960653244592499]\n",
      "INFO:gibbs:  psi[0][0] = prior: dimension = 2. scale = 1.0. mean = [0.75 0.25].. data: counts: {0: 1578, 1: 175}. count_sum = 1753.. posterior: [0.9000855188141391, 0.0999144811858609]\n",
      "INFO:gibbs:  psi[0][1] = prior: dimension = 2. scale = 1.0. mean = [0.25 0.75].. data: counts: {1: 392, 0: 26}. count_sum = 418.. posterior: [0.06264916467780429, 0.9373508353221957]\n",
      "INFO:gibbs: Iter 160 / 400\n",
      "INFO:gibbs:  n_changes = 46 / 1000\n",
      "INFO:gibbs:  llh = -1208.0966193459408\n",
      "INFO:gibbs:  theta = prior: dimension = 2. scale = 1.0. mean = [0.73861022 0.26138978].. data: counts: {0: 798, 1: 202}. count_sum = 1000.. posterior: [0.797940669546744, 0.2020593304532559]\n",
      "INFO:gibbs:  psi[0][0] = prior: dimension = 2. scale = 1.0. mean = [0.75 0.25].. data: counts: {0: 1562, 1: 170}. count_sum = 1732.. posterior: [0.9017599538372764, 0.0982400461627236]\n",
      "INFO:gibbs:  psi[0][1] = prior: dimension = 2. scale = 1.0. mean = [0.25 0.75].. data: counts: {1: 397, 0: 42}. count_sum = 439.. posterior: [0.09602272727272727, 0.9039772727272727]\n",
      "INFO:gibbs: Iter 200 / 400\n",
      "INFO:gibbs:  n_changes = 48 / 1000\n",
      "INFO:gibbs:  llh = -1203.8219652628495\n",
      "INFO:gibbs:  theta = prior: dimension = 2. scale = 1.0. mean = [0.73861022 0.26138978].. data: counts: {0: 783, 1: 217}. count_sum = 1000.. posterior: [0.7829556545617291, 0.2170443454382709]\n",
      "INFO:gibbs:  psi[0][0] = prior: dimension = 2. scale = 1.0. mean = [0.75 0.25].. data: counts: {0: 1549, 1: 147}. count_sum = 1696.. posterior: [0.9132292280494991, 0.08677077195050088]\n",
      "INFO:gibbs:  psi[0][1] = prior: dimension = 2. scale = 1.0. mean = [0.25 0.75].. data: counts: {1: 420, 0: 55}. count_sum = 475.. posterior: [0.11607142857142858, 0.8839285714285714]\n",
      "INFO:gibbs: Iter 240 / 400\n",
      "INFO:gibbs:  n_changes = 52 / 1000\n",
      "INFO:gibbs:  llh = -1207.5297214109235\n",
      "INFO:gibbs:  theta = prior: dimension = 2. scale = 1.0. mean = [0.73861022 0.26138978].. data: counts: {0: 804, 1: 196}. count_sum = 1000.. posterior: [0.80393467554075, 0.1960653244592499]\n",
      "INFO:gibbs:  psi[0][0] = prior: dimension = 2. scale = 1.0. mean = [0.75 0.25].. data: counts: {0: 1570, 1: 182}. count_sum = 1752.. posterior: [0.8960353679406732, 0.10396463205932686]\n",
      "INFO:gibbs:  psi[0][1] = prior: dimension = 2. scale = 1.0. mean = [0.25 0.75].. data: counts: {1: 385, 0: 34}. count_sum = 419.. posterior: [0.08154761904761905, 0.9184523809523809]\n",
      "INFO:gibbs: Iter 280 / 400\n",
      "INFO:gibbs:  n_changes = 51 / 1000\n",
      "INFO:gibbs:  llh = -1209.511312867267\n",
      "INFO:gibbs:  theta = prior: dimension = 2. scale = 1.0. mean = [0.73861022 0.26138978].. data: counts: {0: 803, 1: 197}. count_sum = 1000.. posterior: [0.8029356745417491, 0.1970643254582509]\n",
      "INFO:gibbs:  psi[0][0] = prior: dimension = 2. scale = 1.0. mean = [0.75 0.25].. data: counts: {0: 1567, 1: 179}. count_sum = 1746.. posterior: [0.8973955352032055, 0.10260446479679451]\n",
      "INFO:gibbs:  psi[0][1] = prior: dimension = 2. scale = 1.0. mean = [0.25 0.75].. data: counts: {1: 388, 0: 37}. count_sum = 425.. posterior: [0.08744131455399061, 0.9125586854460094]\n",
      "INFO:gibbs: Iter 320 / 400\n",
      "INFO:gibbs:  n_changes = 45 / 1000\n",
      "INFO:gibbs:  llh = -1186.9279474775662\n",
      "INFO:gibbs:  theta = prior: dimension = 2. scale = 1.0. mean = [0.73861022 0.26138978].. data: counts: {0: 800, 1: 200}. count_sum = 1000.. posterior: [0.7999386715447461, 0.2000613284552539]\n",
      "INFO:gibbs:  psi[0][0] = prior: dimension = 2. scale = 1.0. mean = [0.75 0.25].. data: counts: {0: 1568, 1: 168}. count_sum = 1736.. posterior: [0.9031375935521013, 0.09686240644789867]\n",
      "INFO:gibbs:  psi[0][1] = prior: dimension = 2. scale = 1.0. mean = [0.25 0.75].. data: counts: {1: 399, 0: 36}. count_sum = 435.. posterior: [0.08314220183486239, 0.9168577981651376]\n",
      "INFO:gibbs: Iter 360 / 400\n",
      "INFO:gibbs:  n_changes = 25 / 1000\n",
      "INFO:gibbs:  llh = -1170.9906318888184\n",
      "INFO:gibbs:  theta = prior: dimension = 2. scale = 1.0. mean = [0.73861022 0.26138978].. data: counts: {0: 790, 1: 210}. count_sum = 1000.. posterior: [0.7899486615547361, 0.21005133844526389]\n",
      "INFO:gibbs:  psi[0][0] = prior: dimension = 2. scale = 1.0. mean = [0.75 0.25].. data: counts: {0: 1564, 1: 151}. count_sum = 1715.. posterior: [0.9118589743589743, 0.08814102564102565]\n",
      "INFO:gibbs:  psi[0][1] = prior: dimension = 2. scale = 1.0. mean = [0.25 0.75].. data: counts: {1: 416, 0: 40}. count_sum = 456.. posterior: [0.08807439824945296, 0.911925601750547]\n",
      "INFO:gibbs:Done sampling!\n"
     ]
    }
   ],
   "source": [
    "# Fit the model\n",
    "model = ClaraGibbs(burn_in=100, num_samples=100, sample_lag=3)\n",
    "model.fit(A=1, R=2, ratings=np.array(df.ratings))"
   ]
  },
  {
   "cell_type": "code",
   "execution_count": 5,
   "metadata": {},
   "outputs": [
    {
     "data": {
      "text/plain": [
       "{'mean': [0.7994591510652258, 0.20054084893477436],\n",
       " 'ci': [[0.779908701514776, 0.1854509388448643],\n",
       "  [0.8145490611551356, 0.2200912984852239]]}"
      ]
     },
     "execution_count": 5,
     "metadata": {},
     "output_type": "execute_result"
    }
   ],
   "source": [
    "# Get the prevalence estimate (mean and 95% confidence interval)\n",
    "model.get_prevalence()"
   ]
  },
  {
   "cell_type": "code",
   "execution_count": 6,
   "metadata": {},
   "outputs": [
    {
     "data": {
      "text/plain": [
       "[{'mean': [0.9013498486972717, 0.09865015130272797],\n",
       "  'ci': [[0.8870011594070394, 0.08286080015182554],\n",
       "   [0.9171391998481744, 0.11299884059296064]]},\n",
       " {'mean': [0.08230324503978892, 0.917696754960211],\n",
       "  'ci': [[0.05305545194579137, 0.8777926891615542],\n",
       "   [0.12220731083844576, 0.9469445480542087]]}]"
      ]
     },
     "execution_count": 6,
     "metadata": {},
     "output_type": "execute_result"
    }
   ],
   "source": [
    "# Get the (shared) confusion matrix (mean and 95% confidence interval)\n",
    "model.get_confusion_matrix(labeler_id=0)"
   ]
  }
 ],
 "metadata": {
  "kernelspec": {
   "display_name": "Python 3",
   "language": "python",
   "name": "python3"
  },
  "language_info": {
   "codemirror_mode": {
    "name": "ipython",
    "version": 3
   },
   "file_extension": ".py",
   "mimetype": "text/x-python",
   "name": "python",
   "nbconvert_exporter": "python",
   "pygments_lexer": "ipython3",
   "version": "3.8.3"
  }
 },
 "nbformat": 4,
 "nbformat_minor": 4
}
